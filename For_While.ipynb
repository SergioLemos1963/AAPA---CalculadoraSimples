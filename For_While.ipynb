{
  "nbformat": 4,
  "nbformat_minor": 0,
  "metadata": {
    "colab": {
      "name": "For-While.ipynb",
      "provenance": [],
      "include_colab_link": true
    },
    "kernelspec": {
      "name": "python3",
      "display_name": "Python 3"
    },
    "language_info": {
      "name": "python"
    }
  },
  "cells": [
    {
      "cell_type": "markdown",
      "metadata": {
        "id": "view-in-github",
        "colab_type": "text"
      },
      "source": [
        "<a href=\"https://colab.research.google.com/github/SergioLemos1963/AAPA---CalculadoraSimples/blob/man/For_While.ipynb\" target=\"_parent\"><img src=\"https://colab.research.google.com/assets/colab-badge.svg\" alt=\"Open In Colab\"/></a>"
      ]
    },
    {
      "cell_type": "markdown",
      "source": [
        "laços de repetição\n",
        "\n",
        "for - while\n",
        "\n",
        "WHILE\n",
        "\n",
        "Enquanto <condição>\n",
        "  <comandos>\n",
        "Fim Enquanto\n",
        "\n",
        "\n",
        "mostrar número de 1 - 30"
      ],
      "metadata": {
        "id": "iimB0oODjuaz"
      }
    },
    {
      "cell_type": "code",
      "execution_count": null,
      "metadata": {
        "id": "cKc0GjXFjke9"
      },
      "outputs": [],
      "source": [
        "vconta = 0\n",
        "\n",
        "while vconta <= 30:\n",
        "  print(vconta)\n",
        "  vconta +=5\n",
        "\n",
        "print(\"***** FIM DO PROGRAMA *****\")"
      ]
    },
    {
      "cell_type": "code",
      "source": [
        "num = int(input(\"Digite a tabuada desejada: \"))\n",
        "vconta = 0\n",
        "\n",
        "\n",
        "while vconta <= 10:\n",
        "  print(num, \"*\", vconta, \"=\", num*vconta)\n",
        "  vconta +=1\n",
        "\n",
        "print(\"***** FIM DO PROGRAMA *****\")"
      ],
      "metadata": {
        "id": "hFkvzO7UlSC_"
      },
      "execution_count": null,
      "outputs": []
    },
    {
      "cell_type": "markdown",
      "source": [
        "SORTEAR 3 NUMEROS DIFERENTES E ALEATÓRIOS ENTRE 1 - 10"
      ],
      "metadata": {
        "id": "aPvSmE2bmYB8"
      }
    },
    {
      "cell_type": "code",
      "source": [
        ""
      ],
      "metadata": {
        "id": "CZJnliB-mjz6"
      },
      "execution_count": null,
      "outputs": []
    }
  ]
}